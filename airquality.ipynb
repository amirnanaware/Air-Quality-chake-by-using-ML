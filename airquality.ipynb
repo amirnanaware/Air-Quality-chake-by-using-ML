{
 "cells": [
  {
   "cell_type": "code",
   "execution_count": 4,
   "metadata": {},
   "outputs": [],
   "source": [
    "#IMPORT BASIC REQUIRED PACKAGE\n",
    "import pandas as pd\n",
    "import numpy as np\n",
    "import matplotlib.pyplot as plt\n",
    "import seaborn as sns\n",
    "from sklearn.metrics import accuracy_score,confusion_matrix,classification_report"
   ]
  },
  {
   "cell_type": "code",
   "execution_count": 5,
   "metadata": {},
   "outputs": [
    {
     "name": "stdout",
     "output_type": "stream",
     "text": [
      "            Date      Time  CO_GT  PT08_S1_CO  NMHC_GT  C6H6_GT  PT08_S2_NMHC  \\\n",
      "0     11/23/2004  19:00:00   11.9        2008     -200     50.6          1980   \n",
      "1     11/23/2004  20:00:00   11.5        1918     -200     49.4          1958   \n",
      "2     11/17/2004  18:00:00   10.2        1802     -200     47.7          1924   \n",
      "3     11/23/2004  18:00:00   10.2        1982     -200     49.5          1959   \n",
      "4     11/26/2004  18:00:00   10.1        1956     -200     45.2          1877   \n",
      "...          ...       ...    ...         ...      ...      ...           ...   \n",
      "9352   3/23/2005   4:00:00 -200.0         993     -200      2.3           604   \n",
      "9353   3/26/2005   4:00:00 -200.0        1122     -200      6.0           811   \n",
      "9354   3/29/2005   4:00:00 -200.0         883     -200      1.3           530   \n",
      "9355    4/1/2005   4:00:00 -200.0         818     -200      0.8           473   \n",
      "9356    4/4/2005   4:00:00 -200.0         864     -200      0.8           478   \n",
      "\n",
      "      Nox_GT  PT08_S3_Nox  NO2_GT  PT08_S4_NO2  PT08_S5_O3     T    RH  \\\n",
      "0       1389          325     220         2562        2342  12.4  74.7   \n",
      "1       1358          335     190         2477        2237  11.5  76.2   \n",
      "2        748          356     192         2235        2452  13.7  52.8   \n",
      "3       1369          322     227         2536        2386  13.2  72.6   \n",
      "4       1389          347     255         2338        2465  15.5  62.8   \n",
      "...      ...          ...     ...          ...         ...   ...   ...   \n",
      "9352      85          848      65         1160         762  14.5  66.4   \n",
      "9353     181          641      92         1336        1122  16.2  71.2   \n",
      "9354      63          997      46         1102         617  13.7  68.2   \n",
      "9355      47         1257      41          898         323  13.7  48.8   \n",
      "9356      52         1116      43          958         489  11.8  56.0   \n",
      "\n",
      "          AH   CO_level  \n",
      "0     1.0741  Very High  \n",
      "1     1.0324  Very High  \n",
      "2     0.8244  Very High  \n",
      "3     1.0936  Very High  \n",
      "4     1.0979  Very High  \n",
      "...      ...        ...  \n",
      "9352  1.0919   Very low  \n",
      "9353  1.3013   Very low  \n",
      "9354  1.0611   Very low  \n",
      "9355  0.7606   Very low  \n",
      "9356  0.7743   Very low  \n",
      "\n",
      "[9357 rows x 16 columns]\n"
     ]
    }
   ],
   "source": [
    "#READ DATA\n",
    "data=pd.read_csv(\"Airquality1.csv\")\n",
    "print(data)"
   ]
  },
  {
   "cell_type": "code",
   "execution_count": 6,
   "metadata": {},
   "outputs": [
    {
     "data": {
      "text/plain": [
       "Date            0\n",
       "Time            0\n",
       "CO_GT           0\n",
       "PT08_S1_CO      0\n",
       "NMHC_GT         0\n",
       "C6H6_GT         0\n",
       "PT08_S2_NMHC    0\n",
       "Nox_GT          0\n",
       "PT08_S3_Nox     0\n",
       "NO2_GT          0\n",
       "PT08_S4_NO2     0\n",
       "PT08_S5_O3      0\n",
       "T               0\n",
       "RH              0\n",
       "AH              0\n",
       "CO_level        0\n",
       "dtype: int64"
      ]
     },
     "execution_count": 6,
     "metadata": {},
     "output_type": "execute_result"
    }
   ],
   "source": [
    "#MISSING VALUE CHAKING\n",
    "data.isnull().sum()\n"
   ]
  },
  {
   "cell_type": "code",
   "execution_count": 7,
   "metadata": {},
   "outputs": [
    {
     "data": {
      "text/plain": [
       "Index(['Date', 'Time', 'CO_GT', 'PT08_S1_CO', 'NMHC_GT', 'C6H6_GT',\n",
       "       'PT08_S2_NMHC', 'Nox_GT', 'PT08_S3_Nox', 'NO2_GT', 'PT08_S4_NO2',\n",
       "       'PT08_S5_O3', 'T', 'RH', 'AH', 'CO_level'],\n",
       "      dtype='object')"
      ]
     },
     "execution_count": 7,
     "metadata": {},
     "output_type": "execute_result"
    }
   ],
   "source": [
    "#SEE COLUMNS\n",
    "data.columns"
   ]
  },
  {
   "cell_type": "code",
   "execution_count": 8,
   "metadata": {},
   "outputs": [],
   "source": [
    "#LABEL ENCODING\n",
    "from sklearn.preprocessing import LabelEncoder\n",
    "le=LabelEncoder()"
   ]
  },
  {
   "cell_type": "code",
   "execution_count": 9,
   "metadata": {},
   "outputs": [],
   "source": [
    "#DEFINE NEW VARIABLE AS CAT\n",
    "cat=['Date', 'Time', 'CO_GT', 'PT08_S1_CO', 'NMHC_GT', 'C6H6_GT',\n",
    "       'PT08_S2_NMHC', 'Nox_GT', 'PT08_S3_Nox', 'NO2_GT', 'PT08_S4_NO2',\n",
    "       'PT08_S5_O3', 'T', 'RH', 'AH', 'CO_level']"
   ]
  },
  {
   "cell_type": "code",
   "execution_count": 10,
   "metadata": {},
   "outputs": [],
   "source": [
    "data[cat]=data[cat].apply(le.fit_transform)"
   ]
  },
  {
   "cell_type": "code",
   "execution_count": 11,
   "metadata": {},
   "outputs": [
    {
     "data": {
      "text/html": [
       "<div>\n",
       "<style scoped>\n",
       "    .dataframe tbody tr th:only-of-type {\n",
       "        vertical-align: middle;\n",
       "    }\n",
       "\n",
       "    .dataframe tbody tr th {\n",
       "        vertical-align: top;\n",
       "    }\n",
       "\n",
       "    .dataframe thead th {\n",
       "        text-align: right;\n",
       "    }\n",
       "</style>\n",
       "<table border=\"1\" class=\"dataframe\">\n",
       "  <thead>\n",
       "    <tr style=\"text-align: right;\">\n",
       "      <th></th>\n",
       "      <th>Date</th>\n",
       "      <th>Time</th>\n",
       "      <th>CO_GT</th>\n",
       "      <th>PT08_S1_CO</th>\n",
       "      <th>NMHC_GT</th>\n",
       "      <th>C6H6_GT</th>\n",
       "      <th>PT08_S2_NMHC</th>\n",
       "      <th>Nox_GT</th>\n",
       "      <th>PT08_S3_Nox</th>\n",
       "      <th>NO2_GT</th>\n",
       "      <th>PT08_S4_NO2</th>\n",
       "      <th>PT08_S5_O3</th>\n",
       "      <th>T</th>\n",
       "      <th>RH</th>\n",
       "      <th>AH</th>\n",
       "      <th>CO_level</th>\n",
       "    </tr>\n",
       "  </thead>\n",
       "  <tbody>\n",
       "    <tr>\n",
       "      <th>0</th>\n",
       "      <td>77</td>\n",
       "      <td>10</td>\n",
       "      <td>96</td>\n",
       "      <td>1040</td>\n",
       "      <td>0</td>\n",
       "      <td>403</td>\n",
       "      <td>1241</td>\n",
       "      <td>924</td>\n",
       "      <td>2</td>\n",
       "      <td>215</td>\n",
       "      <td>1582</td>\n",
       "      <td>1724</td>\n",
       "      <td>134</td>\n",
       "      <td>638</td>\n",
       "      <td>3736</td>\n",
       "      <td>3</td>\n",
       "    </tr>\n",
       "    <tr>\n",
       "      <th>1</th>\n",
       "      <td>77</td>\n",
       "      <td>12</td>\n",
       "      <td>95</td>\n",
       "      <td>1033</td>\n",
       "      <td>0</td>\n",
       "      <td>401</td>\n",
       "      <td>1239</td>\n",
       "      <td>922</td>\n",
       "      <td>6</td>\n",
       "      <td>185</td>\n",
       "      <td>1563</td>\n",
       "      <td>1712</td>\n",
       "      <td>125</td>\n",
       "      <td>653</td>\n",
       "      <td>3474</td>\n",
       "      <td>3</td>\n",
       "    </tr>\n",
       "    <tr>\n",
       "      <th>2</th>\n",
       "      <td>70</td>\n",
       "      <td>9</td>\n",
       "      <td>94</td>\n",
       "      <td>1008</td>\n",
       "      <td>0</td>\n",
       "      <td>399</td>\n",
       "      <td>1237</td>\n",
       "      <td>723</td>\n",
       "      <td>17</td>\n",
       "      <td>187</td>\n",
       "      <td>1468</td>\n",
       "      <td>1735</td>\n",
       "      <td>147</td>\n",
       "      <td>419</td>\n",
       "      <td>2249</td>\n",
       "      <td>3</td>\n",
       "    </tr>\n",
       "    <tr>\n",
       "      <th>3</th>\n",
       "      <td>77</td>\n",
       "      <td>9</td>\n",
       "      <td>94</td>\n",
       "      <td>1039</td>\n",
       "      <td>0</td>\n",
       "      <td>402</td>\n",
       "      <td>1240</td>\n",
       "      <td>923</td>\n",
       "      <td>1</td>\n",
       "      <td>222</td>\n",
       "      <td>1575</td>\n",
       "      <td>1730</td>\n",
       "      <td>142</td>\n",
       "      <td>617</td>\n",
       "      <td>3848</td>\n",
       "      <td>3</td>\n",
       "    </tr>\n",
       "    <tr>\n",
       "      <th>4</th>\n",
       "      <td>80</td>\n",
       "      <td>9</td>\n",
       "      <td>93</td>\n",
       "      <td>1035</td>\n",
       "      <td>0</td>\n",
       "      <td>395</td>\n",
       "      <td>1232</td>\n",
       "      <td>924</td>\n",
       "      <td>11</td>\n",
       "      <td>250</td>\n",
       "      <td>1516</td>\n",
       "      <td>1736</td>\n",
       "      <td>165</td>\n",
       "      <td>519</td>\n",
       "      <td>3870</td>\n",
       "      <td>3</td>\n",
       "    </tr>\n",
       "    <tr>\n",
       "      <th>...</th>\n",
       "      <td>...</td>\n",
       "      <td>...</td>\n",
       "      <td>...</td>\n",
       "      <td>...</td>\n",
       "      <td>...</td>\n",
       "      <td>...</td>\n",
       "      <td>...</td>\n",
       "      <td>...</td>\n",
       "      <td>...</td>\n",
       "      <td>...</td>\n",
       "      <td>...</td>\n",
       "      <td>...</td>\n",
       "      <td>...</td>\n",
       "      <td>...</td>\n",
       "      <td>...</td>\n",
       "      <td>...</td>\n",
       "    </tr>\n",
       "    <tr>\n",
       "      <th>9352</th>\n",
       "      <td>180</td>\n",
       "      <td>18</td>\n",
       "      <td>0</td>\n",
       "      <td>299</td>\n",
       "      <td>0</td>\n",
       "      <td>23</td>\n",
       "      <td>181</td>\n",
       "      <td>82</td>\n",
       "      <td>492</td>\n",
       "      <td>60</td>\n",
       "      <td>454</td>\n",
       "      <td>471</td>\n",
       "      <td>155</td>\n",
       "      <td>555</td>\n",
       "      <td>3836</td>\n",
       "      <td>4</td>\n",
       "    </tr>\n",
       "    <tr>\n",
       "      <th>9353</th>\n",
       "      <td>186</td>\n",
       "      <td>18</td>\n",
       "      <td>0</td>\n",
       "      <td>428</td>\n",
       "      <td>0</td>\n",
       "      <td>60</td>\n",
       "      <td>388</td>\n",
       "      <td>178</td>\n",
       "      <td>285</td>\n",
       "      <td>87</td>\n",
       "      <td>630</td>\n",
       "      <td>831</td>\n",
       "      <td>172</td>\n",
       "      <td>603</td>\n",
       "      <td>4785</td>\n",
       "      <td>4</td>\n",
       "    </tr>\n",
       "    <tr>\n",
       "      <th>9354</th>\n",
       "      <td>192</td>\n",
       "      <td>18</td>\n",
       "      <td>0</td>\n",
       "      <td>189</td>\n",
       "      <td>0</td>\n",
       "      <td>13</td>\n",
       "      <td>107</td>\n",
       "      <td>60</td>\n",
       "      <td>641</td>\n",
       "      <td>41</td>\n",
       "      <td>397</td>\n",
       "      <td>326</td>\n",
       "      <td>147</td>\n",
       "      <td>573</td>\n",
       "      <td>3655</td>\n",
       "      <td>4</td>\n",
       "    </tr>\n",
       "    <tr>\n",
       "      <th>9355</th>\n",
       "      <td>205</td>\n",
       "      <td>18</td>\n",
       "      <td>0</td>\n",
       "      <td>124</td>\n",
       "      <td>0</td>\n",
       "      <td>8</td>\n",
       "      <td>53</td>\n",
       "      <td>44</td>\n",
       "      <td>897</td>\n",
       "      <td>36</td>\n",
       "      <td>196</td>\n",
       "      <td>42</td>\n",
       "      <td>147</td>\n",
       "      <td>379</td>\n",
       "      <td>1910</td>\n",
       "      <td>4</td>\n",
       "    </tr>\n",
       "    <tr>\n",
       "      <th>9356</th>\n",
       "      <td>232</td>\n",
       "      <td>18</td>\n",
       "      <td>0</td>\n",
       "      <td>170</td>\n",
       "      <td>0</td>\n",
       "      <td>8</td>\n",
       "      <td>58</td>\n",
       "      <td>49</td>\n",
       "      <td>760</td>\n",
       "      <td>38</td>\n",
       "      <td>255</td>\n",
       "      <td>198</td>\n",
       "      <td>128</td>\n",
       "      <td>451</td>\n",
       "      <td>1981</td>\n",
       "      <td>4</td>\n",
       "    </tr>\n",
       "  </tbody>\n",
       "</table>\n",
       "<p>9357 rows × 16 columns</p>\n",
       "</div>"
      ],
      "text/plain": [
       "      Date  Time  CO_GT  PT08_S1_CO  NMHC_GT  C6H6_GT  PT08_S2_NMHC  Nox_GT  \\\n",
       "0       77    10     96        1040        0      403          1241     924   \n",
       "1       77    12     95        1033        0      401          1239     922   \n",
       "2       70     9     94        1008        0      399          1237     723   \n",
       "3       77     9     94        1039        0      402          1240     923   \n",
       "4       80     9     93        1035        0      395          1232     924   \n",
       "...    ...   ...    ...         ...      ...      ...           ...     ...   \n",
       "9352   180    18      0         299        0       23           181      82   \n",
       "9353   186    18      0         428        0       60           388     178   \n",
       "9354   192    18      0         189        0       13           107      60   \n",
       "9355   205    18      0         124        0        8            53      44   \n",
       "9356   232    18      0         170        0        8            58      49   \n",
       "\n",
       "      PT08_S3_Nox  NO2_GT  PT08_S4_NO2  PT08_S5_O3    T   RH    AH  CO_level  \n",
       "0               2     215         1582        1724  134  638  3736         3  \n",
       "1               6     185         1563        1712  125  653  3474         3  \n",
       "2              17     187         1468        1735  147  419  2249         3  \n",
       "3               1     222         1575        1730  142  617  3848         3  \n",
       "4              11     250         1516        1736  165  519  3870         3  \n",
       "...           ...     ...          ...         ...  ...  ...   ...       ...  \n",
       "9352          492      60          454         471  155  555  3836         4  \n",
       "9353          285      87          630         831  172  603  4785         4  \n",
       "9354          641      41          397         326  147  573  3655         4  \n",
       "9355          897      36          196          42  147  379  1910         4  \n",
       "9356          760      38          255         198  128  451  1981         4  \n",
       "\n",
       "[9357 rows x 16 columns]"
      ]
     },
     "execution_count": 11,
     "metadata": {},
     "output_type": "execute_result"
    }
   ],
   "source": [
    "#READ DATA\n",
    "data"
   ]
  },
  {
   "cell_type": "code",
   "execution_count": 13,
   "metadata": {},
   "outputs": [
    {
     "data": {
      "text/html": [
       "<div>\n",
       "<style scoped>\n",
       "    .dataframe tbody tr th:only-of-type {\n",
       "        vertical-align: middle;\n",
       "    }\n",
       "\n",
       "    .dataframe tbody tr th {\n",
       "        vertical-align: top;\n",
       "    }\n",
       "\n",
       "    .dataframe thead th {\n",
       "        text-align: right;\n",
       "    }\n",
       "</style>\n",
       "<table border=\"1\" class=\"dataframe\">\n",
       "  <thead>\n",
       "    <tr style=\"text-align: right;\">\n",
       "      <th></th>\n",
       "      <th>CO_GT</th>\n",
       "      <th>PT08_S1_CO</th>\n",
       "      <th>NMHC_GT</th>\n",
       "      <th>C6H6_GT</th>\n",
       "      <th>PT08_S2_NMHC</th>\n",
       "      <th>Nox_GT</th>\n",
       "      <th>PT08_S3_Nox</th>\n",
       "      <th>NO2_GT</th>\n",
       "      <th>PT08_S4_NO2</th>\n",
       "      <th>PT08_S5_O3</th>\n",
       "      <th>T</th>\n",
       "      <th>RH</th>\n",
       "      <th>AH</th>\n",
       "    </tr>\n",
       "  </thead>\n",
       "  <tbody>\n",
       "    <tr>\n",
       "      <th>0</th>\n",
       "      <td>96</td>\n",
       "      <td>1040</td>\n",
       "      <td>0</td>\n",
       "      <td>403</td>\n",
       "      <td>1241</td>\n",
       "      <td>924</td>\n",
       "      <td>2</td>\n",
       "      <td>215</td>\n",
       "      <td>1582</td>\n",
       "      <td>1724</td>\n",
       "      <td>134</td>\n",
       "      <td>638</td>\n",
       "      <td>3736</td>\n",
       "    </tr>\n",
       "    <tr>\n",
       "      <th>1</th>\n",
       "      <td>95</td>\n",
       "      <td>1033</td>\n",
       "      <td>0</td>\n",
       "      <td>401</td>\n",
       "      <td>1239</td>\n",
       "      <td>922</td>\n",
       "      <td>6</td>\n",
       "      <td>185</td>\n",
       "      <td>1563</td>\n",
       "      <td>1712</td>\n",
       "      <td>125</td>\n",
       "      <td>653</td>\n",
       "      <td>3474</td>\n",
       "    </tr>\n",
       "    <tr>\n",
       "      <th>2</th>\n",
       "      <td>94</td>\n",
       "      <td>1008</td>\n",
       "      <td>0</td>\n",
       "      <td>399</td>\n",
       "      <td>1237</td>\n",
       "      <td>723</td>\n",
       "      <td>17</td>\n",
       "      <td>187</td>\n",
       "      <td>1468</td>\n",
       "      <td>1735</td>\n",
       "      <td>147</td>\n",
       "      <td>419</td>\n",
       "      <td>2249</td>\n",
       "    </tr>\n",
       "    <tr>\n",
       "      <th>3</th>\n",
       "      <td>94</td>\n",
       "      <td>1039</td>\n",
       "      <td>0</td>\n",
       "      <td>402</td>\n",
       "      <td>1240</td>\n",
       "      <td>923</td>\n",
       "      <td>1</td>\n",
       "      <td>222</td>\n",
       "      <td>1575</td>\n",
       "      <td>1730</td>\n",
       "      <td>142</td>\n",
       "      <td>617</td>\n",
       "      <td>3848</td>\n",
       "    </tr>\n",
       "    <tr>\n",
       "      <th>4</th>\n",
       "      <td>93</td>\n",
       "      <td>1035</td>\n",
       "      <td>0</td>\n",
       "      <td>395</td>\n",
       "      <td>1232</td>\n",
       "      <td>924</td>\n",
       "      <td>11</td>\n",
       "      <td>250</td>\n",
       "      <td>1516</td>\n",
       "      <td>1736</td>\n",
       "      <td>165</td>\n",
       "      <td>519</td>\n",
       "      <td>3870</td>\n",
       "    </tr>\n",
       "    <tr>\n",
       "      <th>...</th>\n",
       "      <td>...</td>\n",
       "      <td>...</td>\n",
       "      <td>...</td>\n",
       "      <td>...</td>\n",
       "      <td>...</td>\n",
       "      <td>...</td>\n",
       "      <td>...</td>\n",
       "      <td>...</td>\n",
       "      <td>...</td>\n",
       "      <td>...</td>\n",
       "      <td>...</td>\n",
       "      <td>...</td>\n",
       "      <td>...</td>\n",
       "    </tr>\n",
       "    <tr>\n",
       "      <th>9352</th>\n",
       "      <td>0</td>\n",
       "      <td>299</td>\n",
       "      <td>0</td>\n",
       "      <td>23</td>\n",
       "      <td>181</td>\n",
       "      <td>82</td>\n",
       "      <td>492</td>\n",
       "      <td>60</td>\n",
       "      <td>454</td>\n",
       "      <td>471</td>\n",
       "      <td>155</td>\n",
       "      <td>555</td>\n",
       "      <td>3836</td>\n",
       "    </tr>\n",
       "    <tr>\n",
       "      <th>9353</th>\n",
       "      <td>0</td>\n",
       "      <td>428</td>\n",
       "      <td>0</td>\n",
       "      <td>60</td>\n",
       "      <td>388</td>\n",
       "      <td>178</td>\n",
       "      <td>285</td>\n",
       "      <td>87</td>\n",
       "      <td>630</td>\n",
       "      <td>831</td>\n",
       "      <td>172</td>\n",
       "      <td>603</td>\n",
       "      <td>4785</td>\n",
       "    </tr>\n",
       "    <tr>\n",
       "      <th>9354</th>\n",
       "      <td>0</td>\n",
       "      <td>189</td>\n",
       "      <td>0</td>\n",
       "      <td>13</td>\n",
       "      <td>107</td>\n",
       "      <td>60</td>\n",
       "      <td>641</td>\n",
       "      <td>41</td>\n",
       "      <td>397</td>\n",
       "      <td>326</td>\n",
       "      <td>147</td>\n",
       "      <td>573</td>\n",
       "      <td>3655</td>\n",
       "    </tr>\n",
       "    <tr>\n",
       "      <th>9355</th>\n",
       "      <td>0</td>\n",
       "      <td>124</td>\n",
       "      <td>0</td>\n",
       "      <td>8</td>\n",
       "      <td>53</td>\n",
       "      <td>44</td>\n",
       "      <td>897</td>\n",
       "      <td>36</td>\n",
       "      <td>196</td>\n",
       "      <td>42</td>\n",
       "      <td>147</td>\n",
       "      <td>379</td>\n",
       "      <td>1910</td>\n",
       "    </tr>\n",
       "    <tr>\n",
       "      <th>9356</th>\n",
       "      <td>0</td>\n",
       "      <td>170</td>\n",
       "      <td>0</td>\n",
       "      <td>8</td>\n",
       "      <td>58</td>\n",
       "      <td>49</td>\n",
       "      <td>760</td>\n",
       "      <td>38</td>\n",
       "      <td>255</td>\n",
       "      <td>198</td>\n",
       "      <td>128</td>\n",
       "      <td>451</td>\n",
       "      <td>1981</td>\n",
       "    </tr>\n",
       "  </tbody>\n",
       "</table>\n",
       "<p>9357 rows × 13 columns</p>\n",
       "</div>"
      ],
      "text/plain": [
       "      CO_GT  PT08_S1_CO  NMHC_GT  C6H6_GT  PT08_S2_NMHC  Nox_GT  PT08_S3_Nox  \\\n",
       "0        96        1040        0      403          1241     924            2   \n",
       "1        95        1033        0      401          1239     922            6   \n",
       "2        94        1008        0      399          1237     723           17   \n",
       "3        94        1039        0      402          1240     923            1   \n",
       "4        93        1035        0      395          1232     924           11   \n",
       "...     ...         ...      ...      ...           ...     ...          ...   \n",
       "9352      0         299        0       23           181      82          492   \n",
       "9353      0         428        0       60           388     178          285   \n",
       "9354      0         189        0       13           107      60          641   \n",
       "9355      0         124        0        8            53      44          897   \n",
       "9356      0         170        0        8            58      49          760   \n",
       "\n",
       "      NO2_GT  PT08_S4_NO2  PT08_S5_O3    T   RH    AH  \n",
       "0        215         1582        1724  134  638  3736  \n",
       "1        185         1563        1712  125  653  3474  \n",
       "2        187         1468        1735  147  419  2249  \n",
       "3        222         1575        1730  142  617  3848  \n",
       "4        250         1516        1736  165  519  3870  \n",
       "...      ...          ...         ...  ...  ...   ...  \n",
       "9352      60          454         471  155  555  3836  \n",
       "9353      87          630         831  172  603  4785  \n",
       "9354      41          397         326  147  573  3655  \n",
       "9355      36          196          42  147  379  1910  \n",
       "9356      38          255         198  128  451  1981  \n",
       "\n",
       "[9357 rows x 13 columns]"
      ]
     },
     "execution_count": 13,
     "metadata": {},
     "output_type": "execute_result"
    }
   ],
   "source": [
    "#X AND Y DEFINE\n",
    "x=data.iloc[:,2:-1]\n",
    "x"
   ]
  },
  {
   "cell_type": "code",
   "execution_count": 14,
   "metadata": {},
   "outputs": [
    {
     "data": {
      "text/plain": [
       "0       3\n",
       "1       3\n",
       "2       3\n",
       "3       3\n",
       "4       3\n",
       "       ..\n",
       "9352    4\n",
       "9353    4\n",
       "9354    4\n",
       "9355    4\n",
       "9356    4\n",
       "Name: CO_level, Length: 9357, dtype: int32"
      ]
     },
     "execution_count": 14,
     "metadata": {},
     "output_type": "execute_result"
    }
   ],
   "source": [
    "y=data[\"CO_level\"]\n",
    "y"
   ]
  },
  {
   "cell_type": "code",
   "execution_count": 15,
   "metadata": {},
   "outputs": [],
   "source": [
    "#SCALLING TO X\n",
    "from sklearn.preprocessing import scale"
   ]
  },
  {
   "cell_type": "code",
   "execution_count": 16,
   "metadata": {},
   "outputs": [],
   "source": [
    "scale_x=scale(x)"
   ]
  },
  {
   "cell_type": "code",
   "execution_count": 18,
   "metadata": {},
   "outputs": [],
   "source": [
    "#NORMALISING TO X\n",
    "from sklearn.preprocessing import normalize"
   ]
  },
  {
   "cell_type": "code",
   "execution_count": 19,
   "metadata": {},
   "outputs": [],
   "source": [
    "nor_x=normalize(x)"
   ]
  },
  {
   "cell_type": "code",
   "execution_count": 21,
   "metadata": {},
   "outputs": [],
   "source": [
    "#SPLITTING DATA"
   ]
  },
  {
   "cell_type": "code",
   "execution_count": 22,
   "metadata": {},
   "outputs": [],
   "source": [
    "from sklearn.model_selection import train_test_split\n",
    "x_train,x_test,y_train,y_test=train_test_split(x,y,test_size=0.20,random_state=0)"
   ]
  },
  {
   "cell_type": "code",
   "execution_count": 23,
   "metadata": {},
   "outputs": [
    {
     "data": {
      "text/plain": [
       "(1872, 13)"
      ]
     },
     "execution_count": 23,
     "metadata": {},
     "output_type": "execute_result"
    }
   ],
   "source": [
    "x_test.shape"
   ]
  },
  {
   "cell_type": "code",
   "execution_count": 24,
   "metadata": {},
   "outputs": [
    {
     "data": {
      "text/plain": [
       "(7485, 13)"
      ]
     },
     "execution_count": 24,
     "metadata": {},
     "output_type": "execute_result"
    }
   ],
   "source": [
    "x_train.shape"
   ]
  },
  {
   "cell_type": "code",
   "execution_count": 25,
   "metadata": {},
   "outputs": [],
   "source": [
    "#desigion tree"
   ]
  },
  {
   "cell_type": "code",
   "execution_count": 40,
   "metadata": {},
   "outputs": [
    {
     "data": {
      "text/plain": [
       "DecisionTreeClassifier()"
      ]
     },
     "execution_count": 40,
     "metadata": {},
     "output_type": "execute_result"
    }
   ],
   "source": [
    "from sklearn.tree import DecisionTreeClassifier\n",
    "dtc=DecisionTreeClassifier()\n",
    "dtc.fit(x_train,y_train)"
   ]
  },
  {
   "cell_type": "code",
   "execution_count": 41,
   "metadata": {},
   "outputs": [],
   "source": [
    "y_pred=dtc.predict(x_test)"
   ]
  },
  {
   "cell_type": "code",
   "execution_count": 42,
   "metadata": {},
   "outputs": [
    {
     "data": {
      "text/plain": [
       "array([0, 4, 0, ..., 0, 0, 0])"
      ]
     },
     "execution_count": 42,
     "metadata": {},
     "output_type": "execute_result"
    }
   ],
   "source": [
    "y_pred"
   ]
  },
  {
   "cell_type": "code",
   "execution_count": 43,
   "metadata": {},
   "outputs": [
    {
     "data": {
      "text/html": [
       "<div>\n",
       "<style scoped>\n",
       "    .dataframe tbody tr th:only-of-type {\n",
       "        vertical-align: middle;\n",
       "    }\n",
       "\n",
       "    .dataframe tbody tr th {\n",
       "        vertical-align: top;\n",
       "    }\n",
       "\n",
       "    .dataframe thead th {\n",
       "        text-align: right;\n",
       "    }\n",
       "</style>\n",
       "<table border=\"1\" class=\"dataframe\">\n",
       "  <thead>\n",
       "    <tr style=\"text-align: right;\">\n",
       "      <th></th>\n",
       "      <th>Actual</th>\n",
       "      <th>predict</th>\n",
       "    </tr>\n",
       "  </thead>\n",
       "  <tbody>\n",
       "    <tr>\n",
       "      <th>1121</th>\n",
       "      <td>0</td>\n",
       "      <td>0</td>\n",
       "    </tr>\n",
       "    <tr>\n",
       "      <th>8028</th>\n",
       "      <td>4</td>\n",
       "      <td>4</td>\n",
       "    </tr>\n",
       "    <tr>\n",
       "      <th>3803</th>\n",
       "      <td>0</td>\n",
       "      <td>0</td>\n",
       "    </tr>\n",
       "    <tr>\n",
       "      <th>4595</th>\n",
       "      <td>0</td>\n",
       "      <td>0</td>\n",
       "    </tr>\n",
       "    <tr>\n",
       "      <th>587</th>\n",
       "      <td>0</td>\n",
       "      <td>0</td>\n",
       "    </tr>\n",
       "    <tr>\n",
       "      <th>...</th>\n",
       "      <td>...</td>\n",
       "      <td>...</td>\n",
       "    </tr>\n",
       "    <tr>\n",
       "      <th>1386</th>\n",
       "      <td>0</td>\n",
       "      <td>0</td>\n",
       "    </tr>\n",
       "    <tr>\n",
       "      <th>5835</th>\n",
       "      <td>2</td>\n",
       "      <td>2</td>\n",
       "    </tr>\n",
       "    <tr>\n",
       "      <th>713</th>\n",
       "      <td>0</td>\n",
       "      <td>0</td>\n",
       "    </tr>\n",
       "    <tr>\n",
       "      <th>200</th>\n",
       "      <td>0</td>\n",
       "      <td>0</td>\n",
       "    </tr>\n",
       "    <tr>\n",
       "      <th>4337</th>\n",
       "      <td>0</td>\n",
       "      <td>0</td>\n",
       "    </tr>\n",
       "  </tbody>\n",
       "</table>\n",
       "<p>1872 rows × 2 columns</p>\n",
       "</div>"
      ],
      "text/plain": [
       "      Actual  predict\n",
       "1121       0        0\n",
       "8028       4        4\n",
       "3803       0        0\n",
       "4595       0        0\n",
       "587        0        0\n",
       "...      ...      ...\n",
       "1386       0        0\n",
       "5835       2        2\n",
       "713        0        0\n",
       "200        0        0\n",
       "4337       0        0\n",
       "\n",
       "[1872 rows x 2 columns]"
      ]
     },
     "execution_count": 43,
     "metadata": {},
     "output_type": "execute_result"
    }
   ],
   "source": [
    "df=pd.DataFrame({\"Actual\":y_test,\"predict\":y_pred})\n",
    "df"
   ]
  },
  {
   "cell_type": "code",
   "execution_count": 44,
   "metadata": {},
   "outputs": [
    {
     "data": {
      "text/plain": [
       "100.0"
      ]
     },
     "execution_count": 44,
     "metadata": {},
     "output_type": "execute_result"
    }
   ],
   "source": [
    "dtc=(accuracy_score(y_test,y_pred)*100)\n",
    "dtc"
   ]
  },
  {
   "cell_type": "code",
   "execution_count": 45,
   "metadata": {},
   "outputs": [],
   "source": [
    "#random forest classifier"
   ]
  },
  {
   "cell_type": "code",
   "execution_count": 46,
   "metadata": {},
   "outputs": [],
   "source": [
    "from sklearn.ensemble import RandomForestClassifier\n",
    "rfc=RandomForestClassifier()"
   ]
  },
  {
   "cell_type": "code",
   "execution_count": 47,
   "metadata": {},
   "outputs": [
    {
     "data": {
      "text/plain": [
       "RandomForestClassifier()"
      ]
     },
     "execution_count": 47,
     "metadata": {},
     "output_type": "execute_result"
    }
   ],
   "source": [
    "rfc.fit(x_train,y_train)"
   ]
  },
  {
   "cell_type": "code",
   "execution_count": 48,
   "metadata": {},
   "outputs": [
    {
     "data": {
      "text/plain": [
       "array([0, 4, 0, ..., 0, 0, 0])"
      ]
     },
     "execution_count": 48,
     "metadata": {},
     "output_type": "execute_result"
    }
   ],
   "source": [
    "y_pred=rfc.predict(x_test)\n",
    "y_pred"
   ]
  },
  {
   "cell_type": "code",
   "execution_count": 49,
   "metadata": {},
   "outputs": [
    {
     "data": {
      "text/html": [
       "<div>\n",
       "<style scoped>\n",
       "    .dataframe tbody tr th:only-of-type {\n",
       "        vertical-align: middle;\n",
       "    }\n",
       "\n",
       "    .dataframe tbody tr th {\n",
       "        vertical-align: top;\n",
       "    }\n",
       "\n",
       "    .dataframe thead th {\n",
       "        text-align: right;\n",
       "    }\n",
       "</style>\n",
       "<table border=\"1\" class=\"dataframe\">\n",
       "  <thead>\n",
       "    <tr style=\"text-align: right;\">\n",
       "      <th></th>\n",
       "      <th>Actual</th>\n",
       "      <th>predict</th>\n",
       "    </tr>\n",
       "  </thead>\n",
       "  <tbody>\n",
       "    <tr>\n",
       "      <th>1121</th>\n",
       "      <td>0</td>\n",
       "      <td>0</td>\n",
       "    </tr>\n",
       "    <tr>\n",
       "      <th>8028</th>\n",
       "      <td>4</td>\n",
       "      <td>4</td>\n",
       "    </tr>\n",
       "    <tr>\n",
       "      <th>3803</th>\n",
       "      <td>0</td>\n",
       "      <td>0</td>\n",
       "    </tr>\n",
       "    <tr>\n",
       "      <th>4595</th>\n",
       "      <td>0</td>\n",
       "      <td>0</td>\n",
       "    </tr>\n",
       "    <tr>\n",
       "      <th>587</th>\n",
       "      <td>0</td>\n",
       "      <td>0</td>\n",
       "    </tr>\n",
       "    <tr>\n",
       "      <th>...</th>\n",
       "      <td>...</td>\n",
       "      <td>...</td>\n",
       "    </tr>\n",
       "    <tr>\n",
       "      <th>1386</th>\n",
       "      <td>0</td>\n",
       "      <td>0</td>\n",
       "    </tr>\n",
       "    <tr>\n",
       "      <th>5835</th>\n",
       "      <td>2</td>\n",
       "      <td>2</td>\n",
       "    </tr>\n",
       "    <tr>\n",
       "      <th>713</th>\n",
       "      <td>0</td>\n",
       "      <td>0</td>\n",
       "    </tr>\n",
       "    <tr>\n",
       "      <th>200</th>\n",
       "      <td>0</td>\n",
       "      <td>0</td>\n",
       "    </tr>\n",
       "    <tr>\n",
       "      <th>4337</th>\n",
       "      <td>0</td>\n",
       "      <td>0</td>\n",
       "    </tr>\n",
       "  </tbody>\n",
       "</table>\n",
       "<p>1872 rows × 2 columns</p>\n",
       "</div>"
      ],
      "text/plain": [
       "      Actual  predict\n",
       "1121       0        0\n",
       "8028       4        4\n",
       "3803       0        0\n",
       "4595       0        0\n",
       "587        0        0\n",
       "...      ...      ...\n",
       "1386       0        0\n",
       "5835       2        2\n",
       "713        0        0\n",
       "200        0        0\n",
       "4337       0        0\n",
       "\n",
       "[1872 rows x 2 columns]"
      ]
     },
     "execution_count": 49,
     "metadata": {},
     "output_type": "execute_result"
    }
   ],
   "source": [
    "df=pd.DataFrame({\"Actual\":y_test,\"predict\":y_pred})\n",
    "df"
   ]
  },
  {
   "cell_type": "code",
   "execution_count": 50,
   "metadata": {},
   "outputs": [
    {
     "data": {
      "text/plain": [
       "99.94658119658119"
      ]
     },
     "execution_count": 50,
     "metadata": {},
     "output_type": "execute_result"
    }
   ],
   "source": [
    "rfc=(accuracy_score(y_test,y_pred)*100)\n",
    "rfc"
   ]
  },
  {
   "cell_type": "code",
   "execution_count": 61,
   "metadata": {},
   "outputs": [
    {
     "name": "stdout",
     "output_type": "stream",
     "text": [
      "[[1104   28    4    0   22]\n",
      " [  57  219    1    0   20]\n",
      " [  34   33    0    0    4]\n",
      " [   1    0    0    0    0]\n",
      " [ 118   78    0    0  149]]\n"
     ]
    }
   ],
   "source": [
    "print(confusion_matrix(y_test,y_pred))"
   ]
  },
  {
   "cell_type": "code",
   "execution_count": 60,
   "metadata": {},
   "outputs": [
    {
     "name": "stdout",
     "output_type": "stream",
     "text": [
      "              precision    recall  f1-score   support\n",
      "\n",
      "           0       0.84      0.95      0.89      1158\n",
      "           1       0.61      0.74      0.67       297\n",
      "           2       0.00      0.00      0.00        71\n",
      "           3       0.00      0.00      0.00         1\n",
      "           4       0.76      0.43      0.55       345\n",
      "\n",
      "    accuracy                           0.79      1872\n",
      "   macro avg       0.44      0.42      0.42      1872\n",
      "weighted avg       0.76      0.79      0.76      1872\n",
      "\n"
     ]
    },
    {
     "name": "stderr",
     "output_type": "stream",
     "text": [
      "C:\\Users\\Amol\\anaconda3\\lib\\site-packages\\sklearn\\metrics\\_classification.py:1221: UndefinedMetricWarning: Precision and F-score are ill-defined and being set to 0.0 in labels with no predicted samples. Use `zero_division` parameter to control this behavior.\n",
      "  _warn_prf(average, modifier, msg_start, len(result))\n"
     ]
    }
   ],
   "source": [
    "print(classification_report(y_test,y_pred))"
   ]
  },
  {
   "cell_type": "code",
   "execution_count": 64,
   "metadata": {},
   "outputs": [],
   "source": [
    "#kmeans"
   ]
  },
  {
   "cell_type": "code",
   "execution_count": 65,
   "metadata": {},
   "outputs": [],
   "source": [
    " from sklearn.neighbors import KNeighborsClassifier\n",
    "    "
   ]
  },
  {
   "cell_type": "code",
   "execution_count": 66,
   "metadata": {},
   "outputs": [],
   "source": [
    "knc=KNeighborsClassifier(n_neighbors=17)"
   ]
  },
  {
   "cell_type": "code",
   "execution_count": 67,
   "metadata": {},
   "outputs": [
    {
     "data": {
      "text/plain": [
       "KNeighborsClassifier(n_neighbors=17)"
      ]
     },
     "execution_count": 67,
     "metadata": {},
     "output_type": "execute_result"
    }
   ],
   "source": [
    "knc.fit(x_train,y_train)"
   ]
  },
  {
   "cell_type": "code",
   "execution_count": 68,
   "metadata": {},
   "outputs": [
    {
     "data": {
      "text/plain": [
       "array([0, 1, 0, ..., 0, 0, 0])"
      ]
     },
     "execution_count": 68,
     "metadata": {},
     "output_type": "execute_result"
    }
   ],
   "source": [
    "y_pred=knc.predict(x_test)\n",
    "y_pred"
   ]
  },
  {
   "cell_type": "code",
   "execution_count": 69,
   "metadata": {},
   "outputs": [
    {
     "data": {
      "text/html": [
       "<div>\n",
       "<style scoped>\n",
       "    .dataframe tbody tr th:only-of-type {\n",
       "        vertical-align: middle;\n",
       "    }\n",
       "\n",
       "    .dataframe tbody tr th {\n",
       "        vertical-align: top;\n",
       "    }\n",
       "\n",
       "    .dataframe thead th {\n",
       "        text-align: right;\n",
       "    }\n",
       "</style>\n",
       "<table border=\"1\" class=\"dataframe\">\n",
       "  <thead>\n",
       "    <tr style=\"text-align: right;\">\n",
       "      <th></th>\n",
       "      <th>Actual</th>\n",
       "      <th>predict</th>\n",
       "    </tr>\n",
       "  </thead>\n",
       "  <tbody>\n",
       "    <tr>\n",
       "      <th>1121</th>\n",
       "      <td>0</td>\n",
       "      <td>0</td>\n",
       "    </tr>\n",
       "    <tr>\n",
       "      <th>8028</th>\n",
       "      <td>4</td>\n",
       "      <td>1</td>\n",
       "    </tr>\n",
       "    <tr>\n",
       "      <th>3803</th>\n",
       "      <td>0</td>\n",
       "      <td>0</td>\n",
       "    </tr>\n",
       "    <tr>\n",
       "      <th>4595</th>\n",
       "      <td>0</td>\n",
       "      <td>0</td>\n",
       "    </tr>\n",
       "    <tr>\n",
       "      <th>587</th>\n",
       "      <td>0</td>\n",
       "      <td>0</td>\n",
       "    </tr>\n",
       "    <tr>\n",
       "      <th>...</th>\n",
       "      <td>...</td>\n",
       "      <td>...</td>\n",
       "    </tr>\n",
       "    <tr>\n",
       "      <th>1386</th>\n",
       "      <td>0</td>\n",
       "      <td>0</td>\n",
       "    </tr>\n",
       "    <tr>\n",
       "      <th>5835</th>\n",
       "      <td>2</td>\n",
       "      <td>0</td>\n",
       "    </tr>\n",
       "    <tr>\n",
       "      <th>713</th>\n",
       "      <td>0</td>\n",
       "      <td>0</td>\n",
       "    </tr>\n",
       "    <tr>\n",
       "      <th>200</th>\n",
       "      <td>0</td>\n",
       "      <td>0</td>\n",
       "    </tr>\n",
       "    <tr>\n",
       "      <th>4337</th>\n",
       "      <td>0</td>\n",
       "      <td>0</td>\n",
       "    </tr>\n",
       "  </tbody>\n",
       "</table>\n",
       "<p>1872 rows × 2 columns</p>\n",
       "</div>"
      ],
      "text/plain": [
       "      Actual  predict\n",
       "1121       0        0\n",
       "8028       4        1\n",
       "3803       0        0\n",
       "4595       0        0\n",
       "587        0        0\n",
       "...      ...      ...\n",
       "1386       0        0\n",
       "5835       2        0\n",
       "713        0        0\n",
       "200        0        0\n",
       "4337       0        0\n",
       "\n",
       "[1872 rows x 2 columns]"
      ]
     },
     "execution_count": 69,
     "metadata": {},
     "output_type": "execute_result"
    }
   ],
   "source": [
    "df=pd.DataFrame({\"Actual\":y_test,\"predict\":y_pred})\n",
    "df"
   ]
  },
  {
   "cell_type": "code",
   "execution_count": 70,
   "metadata": {},
   "outputs": [
    {
     "data": {
      "text/plain": [
       "78.63247863247864"
      ]
     },
     "execution_count": 70,
     "metadata": {},
     "output_type": "execute_result"
    }
   ],
   "source": [
    "knc=(accuracy_score(y_test,y_pred)*100)\n",
    "knc"
   ]
  },
  {
   "cell_type": "code",
   "execution_count": 71,
   "metadata": {},
   "outputs": [],
   "source": [
    "#support vector machine"
   ]
  },
  {
   "cell_type": "code",
   "execution_count": 72,
   "metadata": {},
   "outputs": [],
   "source": [
    "from sklearn.svm import SVC\n",
    "svm=SVC()"
   ]
  },
  {
   "cell_type": "code",
   "execution_count": 73,
   "metadata": {},
   "outputs": [
    {
     "data": {
      "text/plain": [
       "SVC()"
      ]
     },
     "execution_count": 73,
     "metadata": {},
     "output_type": "execute_result"
    }
   ],
   "source": [
    "svm.fit(x_train,y_train)"
   ]
  },
  {
   "cell_type": "code",
   "execution_count": 74,
   "metadata": {},
   "outputs": [
    {
     "data": {
      "text/plain": [
       "array([0, 1, 0, ..., 0, 0, 0])"
      ]
     },
     "execution_count": 74,
     "metadata": {},
     "output_type": "execute_result"
    }
   ],
   "source": [
    "y_pred=svm.predict(x_test)\n",
    "y_pred"
   ]
  },
  {
   "cell_type": "code",
   "execution_count": 75,
   "metadata": {},
   "outputs": [
    {
     "data": {
      "text/html": [
       "<div>\n",
       "<style scoped>\n",
       "    .dataframe tbody tr th:only-of-type {\n",
       "        vertical-align: middle;\n",
       "    }\n",
       "\n",
       "    .dataframe tbody tr th {\n",
       "        vertical-align: top;\n",
       "    }\n",
       "\n",
       "    .dataframe thead th {\n",
       "        text-align: right;\n",
       "    }\n",
       "</style>\n",
       "<table border=\"1\" class=\"dataframe\">\n",
       "  <thead>\n",
       "    <tr style=\"text-align: right;\">\n",
       "      <th></th>\n",
       "      <th>Actual</th>\n",
       "      <th>predict</th>\n",
       "    </tr>\n",
       "  </thead>\n",
       "  <tbody>\n",
       "    <tr>\n",
       "      <th>1121</th>\n",
       "      <td>0</td>\n",
       "      <td>0</td>\n",
       "    </tr>\n",
       "    <tr>\n",
       "      <th>8028</th>\n",
       "      <td>4</td>\n",
       "      <td>1</td>\n",
       "    </tr>\n",
       "    <tr>\n",
       "      <th>3803</th>\n",
       "      <td>0</td>\n",
       "      <td>0</td>\n",
       "    </tr>\n",
       "    <tr>\n",
       "      <th>4595</th>\n",
       "      <td>0</td>\n",
       "      <td>0</td>\n",
       "    </tr>\n",
       "    <tr>\n",
       "      <th>587</th>\n",
       "      <td>0</td>\n",
       "      <td>0</td>\n",
       "    </tr>\n",
       "    <tr>\n",
       "      <th>...</th>\n",
       "      <td>...</td>\n",
       "      <td>...</td>\n",
       "    </tr>\n",
       "    <tr>\n",
       "      <th>1386</th>\n",
       "      <td>0</td>\n",
       "      <td>0</td>\n",
       "    </tr>\n",
       "    <tr>\n",
       "      <th>5835</th>\n",
       "      <td>2</td>\n",
       "      <td>0</td>\n",
       "    </tr>\n",
       "    <tr>\n",
       "      <th>713</th>\n",
       "      <td>0</td>\n",
       "      <td>0</td>\n",
       "    </tr>\n",
       "    <tr>\n",
       "      <th>200</th>\n",
       "      <td>0</td>\n",
       "      <td>0</td>\n",
       "    </tr>\n",
       "    <tr>\n",
       "      <th>4337</th>\n",
       "      <td>0</td>\n",
       "      <td>0</td>\n",
       "    </tr>\n",
       "  </tbody>\n",
       "</table>\n",
       "<p>1872 rows × 2 columns</p>\n",
       "</div>"
      ],
      "text/plain": [
       "      Actual  predict\n",
       "1121       0        0\n",
       "8028       4        1\n",
       "3803       0        0\n",
       "4595       0        0\n",
       "587        0        0\n",
       "...      ...      ...\n",
       "1386       0        0\n",
       "5835       2        0\n",
       "713        0        0\n",
       "200        0        0\n",
       "4337       0        0\n",
       "\n",
       "[1872 rows x 2 columns]"
      ]
     },
     "execution_count": 75,
     "metadata": {},
     "output_type": "execute_result"
    }
   ],
   "source": [
    "df=pd.DataFrame({\"Actual\":y_test,\"predict\":y_pred})\n",
    "df"
   ]
  },
  {
   "cell_type": "code",
   "execution_count": 76,
   "metadata": {},
   "outputs": [
    {
     "data": {
      "text/plain": [
       "80.50213675213675"
      ]
     },
     "execution_count": 76,
     "metadata": {},
     "output_type": "execute_result"
    }
   ],
   "source": [
    "svm=(accuracy_score(y_test,y_pred)*100)\n",
    "svm"
   ]
  },
  {
   "cell_type": "code",
   "execution_count": 78,
   "metadata": {},
   "outputs": [
    {
     "name": "stdout",
     "output_type": "stream",
     "text": [
      "[[1107   24    0    0   27]\n",
      " [  69  218    0    0   10]\n",
      " [  37   31    0    0    3]\n",
      " [   1    0    0    0    0]\n",
      " [  75   88    0    0  182]]\n"
     ]
    }
   ],
   "source": [
    "print(confusion_matrix(y_test,y_pred))"
   ]
  },
  {
   "cell_type": "code",
   "execution_count": 79,
   "metadata": {},
   "outputs": [
    {
     "name": "stdout",
     "output_type": "stream",
     "text": [
      "              precision    recall  f1-score   support\n",
      "\n",
      "           0       0.86      0.96      0.90      1158\n",
      "           1       0.60      0.73      0.66       297\n",
      "           2       0.00      0.00      0.00        71\n",
      "           3       0.00      0.00      0.00         1\n",
      "           4       0.82      0.53      0.64       345\n",
      "\n",
      "    accuracy                           0.81      1872\n",
      "   macro avg       0.46      0.44      0.44      1872\n",
      "weighted avg       0.78      0.81      0.78      1872\n",
      "\n"
     ]
    },
    {
     "name": "stderr",
     "output_type": "stream",
     "text": [
      "C:\\Users\\Amol\\anaconda3\\lib\\site-packages\\sklearn\\metrics\\_classification.py:1221: UndefinedMetricWarning: Precision and F-score are ill-defined and being set to 0.0 in labels with no predicted samples. Use `zero_division` parameter to control this behavior.\n",
      "  _warn_prf(average, modifier, msg_start, len(result))\n"
     ]
    }
   ],
   "source": [
    "print(classification_report(y_test,y_pred))"
   ]
  },
  {
   "cell_type": "code",
   "execution_count": 228,
   "metadata": {},
   "outputs": [],
   "source": [
    "name=pd.DataFrame({\n",
    "    'model':[\"kms\",\"desicsion tre\",\"Random forest\",\"Support vector machine\"],\n",
    "    'score':[kms,dtc,rfc,svm]\n",
    "})"
   ]
  },
  {
   "cell_type": "code",
   "execution_count": 229,
   "metadata": {},
   "outputs": [
    {
     "data": {
      "text/html": [
       "<div>\n",
       "<style scoped>\n",
       "    .dataframe tbody tr th:only-of-type {\n",
       "        vertical-align: middle;\n",
       "    }\n",
       "\n",
       "    .dataframe tbody tr th {\n",
       "        vertical-align: top;\n",
       "    }\n",
       "\n",
       "    .dataframe thead th {\n",
       "        text-align: right;\n",
       "    }\n",
       "</style>\n",
       "<table border=\"1\" class=\"dataframe\">\n",
       "  <thead>\n",
       "    <tr style=\"text-align: right;\">\n",
       "      <th></th>\n",
       "      <th>model</th>\n",
       "      <th>score</th>\n",
       "    </tr>\n",
       "  </thead>\n",
       "  <tbody>\n",
       "    <tr>\n",
       "      <th>0</th>\n",
       "      <td>kms</td>\n",
       "      <td>78.632479</td>\n",
       "    </tr>\n",
       "    <tr>\n",
       "      <th>1</th>\n",
       "      <td>desicsion tre</td>\n",
       "      <td>100.000000</td>\n",
       "    </tr>\n",
       "    <tr>\n",
       "      <th>2</th>\n",
       "      <td>Random forest</td>\n",
       "      <td>99.893162</td>\n",
       "    </tr>\n",
       "    <tr>\n",
       "      <th>3</th>\n",
       "      <td>Support vector machine</td>\n",
       "      <td>80.502137</td>\n",
       "    </tr>\n",
       "  </tbody>\n",
       "</table>\n",
       "</div>"
      ],
      "text/plain": [
       "                    model       score\n",
       "0                     kms   78.632479\n",
       "1           desicsion tre  100.000000\n",
       "2           Random forest   99.893162\n",
       "3  Support vector machine   80.502137"
      ]
     },
     "execution_count": 229,
     "metadata": {},
     "output_type": "execute_result"
    }
   ],
   "source": [
    "name"
   ]
  },
  {
   "cell_type": "code",
   "execution_count": 230,
   "metadata": {},
   "outputs": [
    {
     "name": "stdout",
     "output_type": "stream",
     "text": [
      "\n",
      " \t accuracy score of all algorithms\n"
     ]
    },
    {
     "data": {
      "image/png": "[encoded data removed]",
      "text/plain": [
       "<Figure size 432x360 with 1 Axes>"
      ]
     },
     "metadata": {
      "needs_background": "light"
     },
     "output_type": "display_data"
    }
   ],
   "source": [
    "print(\"\\n \\t accuracy score of all algorithms\")\n",
    "plt.figure(figsize=(6,5))\n",
    "sns.barplot(x=\"model\",y=\"score\",data=name)\n",
    "plt.show()"
   ]
  },
  {
   "cell_type": "code",
   "execution_count": null,
   "metadata": {},
   "outputs": [],
   "source": []
  }
 ],
 "metadata": {
  "kernelspec": {
   "display_name": "Python 3",
   "language": "python",
   "name": "python3"
  },
  "language_info": {
   "codemirror_mode": {
    "name": "ipython",
    "version": 3
   },
   "file_extension": ".py",
   "mimetype": "text/x-python",
   "name": "python",
   "nbconvert_exporter": "python",
   "pygments_lexer": "ipython3",
   "version": "3.8.5"
  }
 },
 "nbformat": 4,
 "nbformat_minor": 4
}
